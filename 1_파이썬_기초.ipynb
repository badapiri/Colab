{
  "nbformat": 4,
  "nbformat_minor": 0,
  "metadata": {
    "colab": {
      "provenance": [],
      "authorship_tag": "ABX9TyPe415qJL/ItSHqs3p3hK60",
      "include_colab_link": true
    },
    "kernelspec": {
      "name": "python3",
      "display_name": "Python 3"
    },
    "language_info": {
      "name": "python"
    }
  },
  "cells": [
    {
      "cell_type": "markdown",
      "metadata": {
        "id": "view-in-github",
        "colab_type": "text"
      },
      "source": [
        "<a href=\"https://colab.research.google.com/github/badapiri/Colab/blob/main/1_%ED%8C%8C%EC%9D%B4%EC%8D%AC_%EA%B8%B0%EC%B4%88.ipynb\" target=\"_parent\"><img src=\"https://colab.research.google.com/assets/colab-badge.svg\" alt=\"Open In Colab\"/></a>"
      ]
    },
    {
      "cell_type": "markdown",
      "source": [
        "파이썬은 띄어쓰기 조심! / print() 문장은 화면에 출력해주는 명령어"
      ],
      "metadata": {
        "id": "VW2AWzpxtZqx"
      }
    },
    {
      "cell_type": "markdown",
      "source": [
        "파이썬에서 변수 만들기는 쉬움. 그냥 약속되지 않은 이름을 사용하면 됨."
      ],
      "metadata": {
        "id": "vZUSbVVAvCA3"
      }
    },
    {
      "cell_type": "code",
      "execution_count": null,
      "metadata": {
        "colab": {
          "base_uri": "https://localhost:8080/"
        },
        "id": "At6rY0KHsFz8",
        "outputId": "f209fe24-c854-4dc5-b09e-62479bb8f006"
      },
      "outputs": [
        {
          "output_type": "stream",
          "name": "stdout",
          "text": [
            "This is My first python code!\n"
          ]
        }
      ],
      "source": [
        "print('This is My first python code!')"
      ]
    },
    {
      "cell_type": "code",
      "source": [
        "name = '홍길동' #홀따옴표로 감싸있음 => 문자열\n",
        "age = 2 #숫자\n",
        "age = age + 1\n",
        "print('안녕하세요 난', name, age)"
      ],
      "metadata": {
        "id": "p9HXdHq_tiA4",
        "colab": {
          "base_uri": "https://localhost:8080/"
        },
        "outputId": "e29dc114-7bb0-4d90-82a2-28260787dba7"
      },
      "execution_count": null,
      "outputs": [
        {
          "output_type": "stream",
          "name": "stdout",
          "text": [
            "안녕하세요 난 홍길동 3\n"
          ]
        }
      ]
    },
    {
      "cell_type": "code",
      "source": [
        "#연산자\n",
        "a = 5\n",
        "b = 3\n",
        "print(a%b)"
      ],
      "metadata": {
        "colab": {
          "base_uri": "https://localhost:8080/"
        },
        "id": "JX-zh3h1_z8k",
        "outputId": "9261a3c7-0a77-46d3-a824-a74d2cdda4ee"
      },
      "execution_count": null,
      "outputs": [
        {
          "output_type": "stream",
          "name": "stdout",
          "text": [
            "2\n"
          ]
        }
      ]
    },
    {
      "cell_type": "code",
      "source": [
        "a = 5\n",
        "b = 3\n",
        "print(a == b) # == 같은가? (비교연산자)\n",
        "print(a != b) # != 같지 않은가?"
      ],
      "metadata": {
        "colab": {
          "base_uri": "https://localhost:8080/"
        },
        "id": "J9GKiV83AmCD",
        "outputId": "4618b09a-422b-485e-de67-285dface7521"
      },
      "execution_count": null,
      "outputs": [
        {
          "output_type": "stream",
          "name": "stdout",
          "text": [
            "False\n",
            "True\n"
          ]
        }
      ]
    },
    {
      "cell_type": "code",
      "source": [
        "a = 5\n",
        "b = 10\n",
        "c = b\n",
        "b = a\n",
        "a = c\n",
        "# c없이 a와 b로만 변경하기\n",
        "# a = a + b 15\n",
        "# b = a - b 5\n",
        "# a = a - b 10\n",
        "print(a, b) #서로 반대가 되게. (10, 5)"
      ],
      "metadata": {
        "colab": {
          "base_uri": "https://localhost:8080/"
        },
        "id": "etefjFYQBF-q",
        "outputId": "b5268bde-e72c-4ba3-8f86-7aa4a870855c"
      },
      "execution_count": null,
      "outputs": [
        {
          "output_type": "stream",
          "name": "stdout",
          "text": [
            "10 5\n"
          ]
        }
      ]
    },
    {
      "cell_type": "code",
      "source": [
        "str = 'hello' #문자열"
      ],
      "metadata": {
        "id": "MoWnNrYacsxZ"
      },
      "execution_count": null,
      "outputs": []
    },
    {
      "cell_type": "code",
      "source": [
        "print(str)"
      ],
      "metadata": {
        "colab": {
          "base_uri": "https://localhost:8080/"
        },
        "id": "WXA5xLJYdDQh",
        "outputId": "12eb8718-d551-4ab3-8192-d9fa02a52e33"
      },
      "execution_count": null,
      "outputs": [
        {
          "output_type": "stream",
          "name": "stdout",
          "text": [
            "hello\n"
          ]
        }
      ]
    },
    {
      "cell_type": "code",
      "source": [
        "#우리 반 학생을 저장 (1~10번) \n",
        "s1 = '김개똥'\n",
        "s2 = '홍길동'\n",
        "#만약 학생이 100명이라면 ? => 100의 변수가 필요\n",
        "#하나의 묶음으로 보관 => List (다른 언어서는 배열 array)\n",
        "\n",
        "student = ['김개똥', '홍길동', 100 , '김철수'] #리스트에 다른 형태의 자료형도 보관가능\n",
        "print(student[1]) #리스트 번지는 0번지 부터 시작한다 (십진수는 0~9까지)\n",
        "# .의 의미 얘가 할 수 있는 기능 목록이 나옴\n",
        "student.append('이정환') #append는 새로운 항목을 추가 할 때\n",
        "print(student[4])\n",
        "#리스트에서 쓸 수 있ㄴㄴ 기능들은 어떤게 있을까??\n",
        "student.pop(1)\n",
        "#다시 출력\n",
        "print(student)"
      ],
      "metadata": {
        "colab": {
          "base_uri": "https://localhost:8080/"
        },
        "id": "OojipcwBdKlZ",
        "outputId": "5d993163-a38d-4180-9350-76b6537bec9f"
      },
      "execution_count": null,
      "outputs": [
        {
          "output_type": "stream",
          "name": "stdout",
          "text": [
            "홍길동\n",
            "이정환\n",
            "['김개똥', 100, '김철수', '이정환']\n"
          ]
        }
      ]
    },
    {
      "cell_type": "code",
      "source": [
        "#만약 1번의 이름, 국어, 영어. 정보 성적을 보관\n",
        "#2번의 이름, 국어. 영어, 정보\n",
        "s1 = ['김개똥', 100, 50 ,70]\n",
        "s2 = ['홍길동', 60 ,70 ,100]\n",
        "\n",
        "cls = [s1, s2] #리스트(배열)안에 리스트를 넣을 수 있음 => 2차원 리스트(배열)\n",
        "print(cls[0]) #s1=김개똥의 배열\n",
        "print(s1[1])#김개똥의 국어 점수\n",
        "print(cls[0][1])\n",
        "\n",
        "#배열과 리스트가 같을까?? => 배열은 크기가 고정 = 변경 불가, 리스트는 변함"
      ],
      "metadata": {
        "colab": {
          "base_uri": "https://localhost:8080/"
        },
        "id": "B23UtL2njEo6",
        "outputId": "8cf5188f-5eca-467c-e1da-cfd1eb770669"
      },
      "execution_count": null,
      "outputs": [
        {
          "output_type": "stream",
          "name": "stdout",
          "text": [
            "['김개똥', 100, 50, 70]\n",
            "100\n",
            "100\n"
          ]
        }
      ]
    },
    {
      "cell_type": "code",
      "source": [
        "#여기만 실행하면 안됨\n",
        "#type(변수) = 변수의 타입(자료의 형태를 출력)\n",
        "\n",
        "print(type(cls)) #cls의 자료형\n",
        "num = 3\n",
        "print(type(num))"
      ],
      "metadata": {
        "colab": {
          "base_uri": "https://localhost:8080/"
        },
        "id": "TEYL8M-cpHgr",
        "outputId": "bc5d51cd-bc87-44b0-81b6-0e0f834848cd"
      },
      "execution_count": null,
      "outputs": [
        {
          "output_type": "stream",
          "name": "stdout",
          "text": [
            "<class 'list'>\n",
            "<class 'int'>\n"
          ]
        }
      ]
    },
    {
      "cell_type": "code",
      "source": [
        "#사용자 입력\n",
        "name = input(\"이름을 입력해주세요 >>> \") #입력하기 기능\n",
        "#또는 name = input('이름을 입력하세요')\n",
        "#print('Hello', name)\n",
        "print('hello '+ name)\n",
        "print(f'hello {name}') # f'로 시작하는 포맷팅을 이용해서 변수를 안에 표현 할 수 있음"
      ],
      "metadata": {
        "colab": {
          "base_uri": "https://localhost:8080/"
        },
        "id": "MfphnE8vrMFQ",
        "outputId": "cda81eca-bb96-4e75-abf2-489ed08511f1"
      },
      "execution_count": null,
      "outputs": [
        {
          "output_type": "stream",
          "name": "stdout",
          "text": [
            "이름을 입력해주세요 >>> 양현욱\n",
            "hello 양현욱\n",
            "hello 양현욱\n"
          ]
        }
      ]
    },
    {
      "cell_type": "code",
      "source": [
        "#리스트에서 관해서.. 문자열\n",
        "#String = 문자열\n",
        "str = 'hello world'\n",
        "print(str[4]) #['h', 'e' , 'l', 'l', 'o'..... 저장되고 있음]\n",
        "print(len(str)) #len() 기능은 문자의 길이를 출력 공백 포함\n",
        "\n",
        "list = [1, 2, 3, 4, 5] #배열의 길이를 알 수 있을까?\n",
        "print(len(list))"
      ],
      "metadata": {
        "id": "BfWLLkcvtZMW",
        "colab": {
          "base_uri": "https://localhost:8080/"
        },
        "outputId": "c9241fde-4157-49d3-b1af-81870afa954c"
      },
      "execution_count": null,
      "outputs": [
        {
          "output_type": "stream",
          "name": "stdout",
          "text": [
            "o\n",
            "11\n",
            "5\n"
          ]
        }
      ]
    },
    {
      "cell_type": "code",
      "source": [
        "#반복문 - 반복되는 작업을 쉽게\n",
        "#상황 - 리스트 = [0, 0, 0, 0, 0, 0, ....] => 100칸 생성\n",
        "#list = [ 0, 0, 0, 0, 0, 0, .......] 또는\n",
        "#list = [] list.append(0) 추가하기 100번\n",
        "\n",
        "#반복 명령어 - for, while\n",
        "#for = 제한된 횟수 만큼 반복\n",
        "#k = 반복하면서 사용할 변수\n",
        "#range(범위) 0 ~ 범위까지\n",
        "for k in range(2,5):\n",
        "# : 표시는 중괄호 시작이랑 같은 뜻\n",
        "  #안에 들여쓰기를 했음.\n",
        "  print(k) #k = 0~9까지 변신\n",
        "print('반복중')"
      ],
      "metadata": {
        "colab": {
          "base_uri": "https://localhost:8080/"
        },
        "id": "uDJkf8ag-29V",
        "outputId": "5aa1b0e0-189c-4afe-cce7-b07adb1bb6b8"
      },
      "execution_count": null,
      "outputs": [
        {
          "output_type": "stream",
          "name": "stdout",
          "text": [
            "2\n",
            "3\n",
            "4\n",
            "반복중\n"
          ]
        }
      ]
    },
    {
      "cell_type": "code",
      "source": [
        "# 100개의 리스트 배열을 만들고 [0, 2, 4, 6....] 순서로 값을 초기화\n",
        "for n in range(100):\n",
        "  list.append(n*2)\n",
        "  print(list)\n",
        "#n = 0, 1, 2....99\n",
        "#range(a부터, b전까지, c만큼 +, - 해라)"
      ],
      "metadata": {
        "id": "C2dxwSafBc8b"
      },
      "execution_count": null,
      "outputs": []
    },
    {
      "cell_type": "code",
      "source": [
        "#for은 반복은 => 똑같은 작업을 할 수 잇도록 횟수를 지정하는 반복문\n",
        "#인력하는 단의 구구단 출력\n",
        "#예) 3입력 => 3 * 1 ..... 3 * 9 = 27\n",
        "a = int(input('숫자를 입력해주세요 >>> '))\n",
        "print(a * 3) #input으로 받은 값은 문자로 처리됨\n",
        "# b = int(a) int 타입 = 정수값으로 변경"
      ],
      "metadata": {
        "id": "yjAML-pjDIun",
        "colab": {
          "base_uri": "https://localhost:8080/"
        },
        "outputId": "348a6d16-4f04-4abf-acfc-1a32d3425211"
      },
      "execution_count": null,
      "outputs": [
        {
          "output_type": "stream",
          "name": "stdout",
          "text": [
            "숫자를 입력해주세요 >>> 3\n",
            "9\n"
          ]
        }
      ]
    },
    {
      "cell_type": "code",
      "source": [
        "a = int(input('숫자를 입력해주세요 >>> ')) # {} 는 안에 있는 변수의 값을 출력\n",
        "for b in range(1,10): #1 ~ 10 전까지 = 1 ~ 9 콜론 : 붙이도록\n",
        "    print(a, '*'  , b , '=', a * b) #반복할 문장은 Tab만큼 둘여써서 작성\n",
        "    #print(f'{a} * {b} * = {a * b})"
      ],
      "metadata": {
        "colab": {
          "base_uri": "https://localhost:8080/"
        },
        "id": "kYsuilmEh7sT",
        "outputId": "1cc71eaf-d2c4-404b-c9ae-969d164e6313"
      },
      "execution_count": null,
      "outputs": [
        {
          "output_type": "stream",
          "name": "stdout",
          "text": [
            "숫자를 입력해주세요 >>> 3\n",
            "3 * 1 = 3\n",
            "3 * 2 = 6\n",
            "3 * 3 = 9\n",
            "3 * 4 = 12\n",
            "3 * 5 = 15\n",
            "3 * 6 = 18\n",
            "3 * 7 = 21\n",
            "3 * 8 = 24\n",
            "3 * 9 = 27\n"
          ]
        }
      ]
    },
    {
      "cell_type": "code",
      "source": [
        "#1 ~ 입력수 (변수) 까지 369게임\n",
        "# 3, 6, 9에는 대문자 X를 출력\n",
        "#그리고 숫자마다 공백\n",
        "\n",
        "#0. 끝나는 수를 입력하기\n",
        "#1. 1부터 입력수 까지 출력 => for문 필요\n",
        "#2. 3, 6, 9인지 검사를 하여 X로 변환\n",
        "i = int(input('숫자를 입력해주세요 >>> '))\n",
        "\n",
        "for b in range(1,i + 1):\n",
        "  if b % 3 == 0:\n",
        "    print('X')\n",
        "  else:   #그 밖에 if와 같이 사용됨. if는 혼자 쓸 수 있지만, else는 혼자 사용 불가\n",
        "    print(b)\n",
        "    #if 조건 : => 참인지 검사\n",
        "    # 참이라면 수행할 내용\n",
        "    #if b 가 같은가\n",
        "    #등호를 하나만쓰면, <- 복사, == 비교하는 것(비교연산자)\n"
      ],
      "metadata": {
        "id": "60ejdBiaoCVV"
      },
      "execution_count": null,
      "outputs": []
    },
    {
      "cell_type": "code",
      "source": [
        "# 나머지 연산자 알기\n",
        "i = int(input('숫자를 입력해주세요 >>> '))\n",
        "\n",
        "for b in range(1, i + 1):\n",
        "  if b % 3 == 0: # % = 나머지 연산자 => 10 % 3 = 1\n",
        "    print('X')\n",
        "  else:\n",
        "    print(b)"
      ],
      "metadata": {
        "id": "Ad0FXyCfx81q"
      },
      "execution_count": null,
      "outputs": []
    },
    {
      "cell_type": "code",
      "source": [
        "i = int(input('숫자를 입력해주세요 >>> '))\n",
        "\n",
        "for b in range(1, i + 1):\n",
        "  # or 조건 중에 하나라도 참이면 참, and 조건이 모두 맞으면 참, \\ + shift = |, ||는 자바에서 or 대신 사용한다\n",
        "  if i == 3 or i == 6 or i == 9:\n",
        "    print('X')\n",
        "  else:\n",
        "    print(b)"
      ],
      "metadata": {
        "id": "9zX55Tywy5yL"
      },
      "execution_count": null,
      "outputs": []
    },
    {
      "cell_type": "code",
      "source": [
        "# if 문 복습 for 문과 연계\n",
        "# if = 조건 검가 = 만약 조건이 참이면 수행할 내용 작성\n",
        "\n",
        "a = 4\n",
        "#a가 5보다 크다면 \"큰 수\" 출력.\n",
        "if a > 5:       \n",
        "  print(\"큰 수\") \n",
        "  print(\"입니다.\") \n",
        "#콜론 표시의 주의 -\n",
        "#콜론 다음에는 현재보다 들여쓰기 (탭) \n",
        "\n",
        "###차이점\n",
        "if a > 5:       \n",
        "  print(\"큰 수\") \n",
        "print(\"입니다.\") #들여쓰기 안하면 if 패밀리에 안들어가서 a <= 5여도 입니다.는 출력된다\n",
        "#콜론 표시의 주의 -\n",
        "#콜론 다음에는 현재보다 들여쓰기 (탭) \n",
        "\n",
        "if a > 5:\n",
        "  print(\"큰 수\")\n",
        "else: #else: = '그 밖에' 참이 아닌 경우는 전부 이쪽으로 오게됨\n",
        "  print(\"작은 수\")"
      ],
      "metadata": {
        "id": "roN5-wFqCdev",
        "colab": {
          "base_uri": "https://localhost:8080/"
        },
        "outputId": "a8a69046-b638-4213-fbc7-9acab944f2e7"
      },
      "execution_count": null,
      "outputs": [
        {
          "output_type": "stream",
          "name": "stdout",
          "text": [
            "입니다.\n",
            "작은 수\n"
          ]
        }
      ]
    },
    {
      "cell_type": "code",
      "source": [
        "#내가 생각한 숫자 맞추기\n",
        "#10번의 기회동안 숫자를 맞춤\n",
        "#10번의 기회 => 10번동안 입력을 받아야겠음\n",
        "#10번 동안 => 10번 반복 -> for문 필요\n",
        "#입력 받음 => input() 필요\n",
        "#내가 입력한 숫자가 맞는지 검사(만약 일치하나??) => if문 필요\n",
        "#10번 반복할 동안 검사를 매번 수행 => for 문 안에서 입력도 받고, 검사도 하고\n",
        "\n",
        "ans = 15 #정답\n",
        "\n",
        "#10번 반복\n",
        "for A in range(10):\n",
        "  num = int(input('정답은? ')) #입력 문자를 숫자로 변환\n",
        "\n",
        "#ans랑 num이랑 같은가?\n",
        "  if ans == num:\n",
        "    print(\"정답\")\n",
        "  else:\n",
        "    print(\"오답\")"
      ],
      "metadata": {
        "id": "TYw4QdDTFlmt"
      },
      "execution_count": null,
      "outputs": []
    },
    {
      "cell_type": "code",
      "source": [
        "#내가 생각한 숫자 맞추기\n",
        "#10번의 기회동안 숫자를 맞춤\n",
        "#10번의 기회 => 10번동안 입력을 받아야겠음\n",
        "#10번 동안 => 10번 반복 -> for문 필요\n",
        "#입력 받음 => input() 필요\n",
        "#내가 입력한 숫자가 맞는지 검사(만약 일치하나??) => if문 필요\n",
        "#10번 반복할 동안 검사를 매번 수행 => for 문 안에서 입력도 받고, 검사도 하고\n",
        "import random\n",
        "ans = random.randrange(1, 100) #정답\n",
        "\n",
        "#10번 반복\n",
        "for A in range(10):\n",
        "  num = int(input('정답은? ')) #입력 문자를 숫자로 변환\n",
        "\n",
        "#ans랑 num이랑 같은가?\n",
        "  if ans == num:\n",
        "    print(\"정답\")\n",
        "    break\n",
        "    #빠져나가기 => 검색 파이썬에서 반복문 빠져나가기\n",
        "  elif ans > num:\n",
        "    print(\"UP\")\n",
        "  elif ans < num:\n",
        "    print(\"DOWN\")\n",
        "  "
      ],
      "metadata": {
        "colab": {
          "base_uri": "https://localhost:8080/"
        },
        "id": "vS8T9NApIrAF",
        "outputId": "87f4f181-71a0-41f4-ba6e-7f735a725eef"
      },
      "execution_count": null,
      "outputs": [
        {
          "output_type": "stream",
          "name": "stdout",
          "text": [
            "정답은? 25\n",
            "DOWN\n",
            "정답은? 14\n",
            "DOWN\n",
            "정답은? 8\n",
            "DOWN\n",
            "정답은? 3\n",
            "UP\n",
            "정답은? 5\n",
            "UP\n",
            "정답은? 6\n",
            "정답\n"
          ]
        }
      ]
    },
    {
      "cell_type": "code",
      "source": [
        "N = int(input('숫자를 입력해주세요 >>> '))\n",
        "sum = 0\n",
        "for i in range(1, N + 1):\n",
        "  if i % 2 == 0:\n",
        "    sum = sum + i\n",
        "print(sum)"
      ],
      "metadata": {
        "colab": {
          "base_uri": "https://localhost:8080/"
        },
        "id": "IK-QAwcljbPk",
        "outputId": "c870b000-a5ea-4611-c0c1-08a13b8d60e5"
      },
      "execution_count": null,
      "outputs": [
        {
          "output_type": "stream",
          "name": "stdout",
          "text": [
            "숫자를 입력해주세요 >>> 30\n",
            "240\n"
          ]
        }
      ]
    },
    {
      "cell_type": "code",
      "source": [
        "N = int(input('숫자를 입력해주세요 >>> '))\n",
        "sum = 0\n",
        "for i in range(2, N + 1, 2):\n",
        "  sum = sum + i\n",
        "print(sum)"
      ],
      "metadata": {
        "colab": {
          "base_uri": "https://localhost:8080/"
        },
        "id": "EMOSMkg5qPdz",
        "outputId": "9010478a-54e3-459a-917b-ebcb54c03f34"
      },
      "execution_count": null,
      "outputs": [
        {
          "output_type": "stream",
          "name": "stdout",
          "text": [
            "숫자를 입력해주세요 >>> 1000\n",
            "250500\n"
          ]
        }
      ]
    },
    {
      "cell_type": "code",
      "source": [
        "N = int(input('숫자를 입력해주세요 >>> '))\n",
        "sum = 0\n",
        "if N % 2 != 0:\n",
        "  N = N - 1\n",
        "  mid = int(N/2) - 1\n",
        "else:\n",
        "  mid = int(N/2) + 1\n",
        "sum = ((N + 2) * int(N / 4)) + mid\n",
        "print(sum) #아마도 이거 잘못 계산한 코드"
      ],
      "metadata": {
        "id": "8LGyZ0SVqv4K",
        "colab": {
          "base_uri": "https://localhost:8080/"
        },
        "outputId": "6065e97e-c1b9-41cf-eb4a-125767ae7ff4"
      },
      "execution_count": null,
      "outputs": [
        {
          "output_type": "stream",
          "name": "stdout",
          "text": [
            "숫자를 입력해주세요 >>> 1000\n",
            "251001\n"
          ]
        }
      ]
    },
    {
      "cell_type": "code",
      "source": [
        "import random\n",
        "A = random.randrange(1,4)\n",
        "M = int(input('뭐 낼래? 가위 1, 바위 2, 보 3 >>> '))\n",
        "print(A)\n",
        "print(M)\n",
        "if  A == M:\n",
        "  print('무승부')\n",
        "elif (A == 1 and M == 3) or (A == 2 and M == 1) or (A == 3 and M == 2):\n",
        "  print('컴퓨터의 승리',', 나의 패배')\n",
        "else:\n",
        "  print('나의 승리',', 컴퓨터의 패배')"
      ],
      "metadata": {
        "id": "FOWMVzh2v0Kk",
        "colab": {
          "base_uri": "https://localhost:8080/"
        },
        "outputId": "01c30897-5e55-45f8-dd28-1bdaff47d66b"
      },
      "execution_count": null,
      "outputs": [
        {
          "output_type": "stream",
          "name": "stdout",
          "text": [
            "뭐 낼래? 가위 1, 바위 2, 보 3 >>> 2\n",
            "3\n",
            "2\n",
            "컴퓨터의 승리 , 나의 패배\n"
          ]
        }
      ]
    },
    {
      "cell_type": "code",
      "source": [
        "import random\n",
        "A = random.randrange(1,4)\n",
        "M = int(input('뭐 낼래? 가위 : 1, 바위 : 2, 보 : 3 >>> '))\n",
        "print('컴퓨터 :', A)\n",
        "print('나 :', M)\n",
        "if 1 == A and 1 == M:\n",
        "  print('컴퓨터 : 가위, 나 : 가위')\n",
        "  print('비겼음')\n",
        "elif 2 == A and 2 == M:\n",
        "  print('컴퓨터 : 바위, 나 : 바위')\n",
        "  print('비겼음')\n",
        "elif 3 == A and 3 == M:\n",
        "  print('컴퓨터 : 보, 나 : 보')\n",
        "  print('비겼음')\n",
        "elif 1 == A and 2 == M:\n",
        "  print('컴퓨터 : 가위, 나 : 바위')\n",
        "  print('컴퓨터의 패배, 나의 승리')\n",
        "elif 1 == A and 3 == M:\n",
        "  print('컴퓨터 : 가위, 나 : 보')\n",
        "  print('컴퓨터의 승리, 나의 패배')\n",
        "elif 2 == A and 1 == M:\n",
        "  print('컴퓨터 : 바위, 나 : 가위')\n",
        "  print('컴퓨터의 승리, 나의 패배')\n",
        "elif 2 == A and 3 == M:\n",
        "  print('컴퓨터 : 바위, 나 : 보')\n",
        "  print('컴퓨터의 패배, 나의 승리')\n",
        "elif 3 == A and 1 == M:\n",
        "  print('컴퓨터 : 보, 나 : 가위')\n",
        "  print('컴퓨터의 패배, 나의 승리')\n",
        "elif 3 == A and 2 == M:\n",
        "  print('컴퓨터 : 보, 나 : 바위')\n",
        "  print('컴퓨터의 승리, 나의 패배')"
      ],
      "metadata": {
        "colab": {
          "base_uri": "https://localhost:8080/"
        },
        "id": "2NgsV_V12VWd",
        "outputId": "8cf4de53-0320-4e46-981f-bf4abd8751e0"
      },
      "execution_count": null,
      "outputs": [
        {
          "output_type": "stream",
          "name": "stdout",
          "text": [
            "뭐 낼래? 가위 : 1, 바위 : 2, 보 : 3 >>> 3\n",
            "컴퓨터 : 3\n",
            "나 : 3\n",
            "컴퓨터 : 보, 나 : 보\n",
            "비겼음\n"
          ]
        }
      ]
    },
    {
      "cell_type": "code",
      "source": [
        "import random\n",
        "com = random.randrange(1,4)\n",
        "me = int(input('뭐 낼래? 가위 1, 바위 2, 보 3 >>> '))\n",
        "if me == com:\n",
        "  print('무승부')\n",
        "elif (me - com) % 3 == 1:\n",
        "  print('이겼다')\n",
        "else:\n",
        "  print('졌다')"
      ],
      "metadata": {
        "id": "Z2zyPLfh4EIJ"
      },
      "execution_count": null,
      "outputs": []
    },
    {
      "cell_type": "code",
      "source": [
        "# 1이 입력되면 0, 0이 입력되면 1로 출력하는 프로그램 만들자\n",
        "N = int(input())\n",
        "if N != 0:\n",
        "  print(1)\n",
        "elif N == 1:\n",
        "  print(0)\n",
        "#if N != 0\n",
        "#  print(0)\n",
        "#elif N == 0\n",
        "# print(1)"
      ],
      "metadata": {
        "colab": {
          "base_uri": "https://localhost:8080/"
        },
        "id": "8oLsgbKjDNu5",
        "outputId": "6b21990b-ec13-4715-b2b5-58b6a96a83f3"
      },
      "execution_count": null,
      "outputs": [
        {
          "output_type": "stream",
          "name": "stdout",
          "text": [
            "1\n",
            "0\n"
          ]
        }
      ]
    },
    {
      "cell_type": "code",
      "source": [
        "n = input()\n",
        "if n == '1':\n",
        "  print('0')\n",
        "else:\n",
        "  print('1')"
      ],
      "metadata": {
        "id": "7spsB_JkGFHm"
      },
      "execution_count": null,
      "outputs": []
    },
    {
      "cell_type": "code",
      "source": [
        "n = int(input())\n",
        "print(1 - n)"
      ],
      "metadata": {
        "id": "x32oaNUWFo1e"
      },
      "execution_count": null,
      "outputs": []
    },
    {
      "cell_type": "code",
      "source": [
        "#for문과 배열을 섞아보자\n",
        "#배열 = 리스트 => 변수의 집합 => 여러 개의 변수를 묶어서 보관\n",
        "#그럼 어떻게 안에 있는 자료를 접근 할 수 있을까?? => 주소\n",
        "lt = [] #빈 리스트 생성\n",
        "#리스트와 관련된 명령어 알기\n",
        "#lt. => 점을 찍으면 사용할 수 있는 명렁어가 나옴\n",
        "lt.append(1) #뒤에 추가\n",
        "lt.append(10)\n",
        "lt.insert(1, 5) #(번지, 추가할 값) 리스트는 0번지 부터 출발\n",
        "lt.insert(0, 20)\n",
        "#1번지에 있는 1을 삭제\n",
        "lt.remove(1) # 삭제 할 때는 주소 번지만 이용해서 삭제\n",
        "print(lt)"
      ],
      "metadata": {
        "colab": {
          "base_uri": "https://localhost:8080/"
        },
        "id": "OfNTpCzpGX2P",
        "outputId": "471eeec6-c4c5-4910-900e-ba94c793995c"
      },
      "execution_count": null,
      "outputs": [
        {
          "output_type": "stream",
          "name": "stdout",
          "text": [
            "[20, 5, 10]\n"
          ]
        }
      ]
    },
    {
      "cell_type": "code",
      "source": [
        "#[0, 10, 20, 30, 40. 50 ...... 1000]\n",
        "lt = []\n",
        "#for 변수 in 범위(리스트를 써도 되고, range() 이용)\n",
        "for i in range(0, 1001, 10):\n",
        "  lt.append(i)\n",
        "print(lt)\n",
        "#for i in range(101)\n",
        "# lt.append(i*10)\n",
        "#print(lt)\n",
        "\n",
        "pos = lt.index(40)\n",
        "#값을 찾아보고 해당 번지를 출력\n",
        "#없으면 오류를 출력\n",
        "\n",
        "str = 'hello wolrd' #문자열도 리스트로 다룰 수 있음\n",
        "pos = (str[6])\n",
        "pss = (str.index('w'))\n",
        "#문자열에서는 find 명령어도 사용 할 수 있음\n",
        "psss = (str.find('w'))\n",
        "#find는 찾지 못하면 오류대신 -1을 출력\n",
        "print(pos)\n",
        "print(pss)\n",
        "print(psss)"
      ],
      "metadata": {
        "colab": {
          "base_uri": "https://localhost:8080/"
        },
        "id": "8bMNETqnIWQl",
        "outputId": "d191ae05-d336-4647-c721-a26b9310709d"
      },
      "execution_count": null,
      "outputs": [
        {
          "output_type": "stream",
          "name": "stdout",
          "text": [
            "[0, 10, 20, 30, 40, 50, 60, 70, 80, 90, 100, 110, 120, 130, 140, 150, 160, 170, 180, 190, 200, 210, 220, 230, 240, 250, 260, 270, 280, 290, 300, 310, 320, 330, 340, 350, 360, 370, 380, 390, 400, 410, 420, 430, 440, 450, 460, 470, 480, 490, 500, 510, 520, 530, 540, 550, 560, 570, 580, 590, 600, 610, 620, 630, 640, 650, 660, 670, 680, 690, 700, 710, 720, 730, 740, 750, 760, 770, 780, 790, 800, 810, 820, 830, 840, 850, 860, 870, 880, 890, 900, 910, 920, 930, 940, 950, 960, 970, 980, 990, 1000]\n",
            "w\n",
            "6\n",
            "6\n"
          ]
        }
      ]
    },
    {
      "cell_type": "code",
      "source": [
        "#리스트에서 index를 쓰지 않고 해당 위치를 반환\n",
        "\n",
        "a = [1, 2, 3, 4, 5, 6, 7] #크기 고정\n",
        "find = int(input())\n",
        "#for 문을 이용해보세요\n",
        "\n",
        "###결과###\n",
        "# 4입력 => 3(번지)출력\n",
        "for i in a:\n",
        "  A = a[find]\n",
        "print(A)"
      ],
      "metadata": {
        "colab": {
          "base_uri": "https://localhost:8080/"
        },
        "id": "wyacCYUBMKe4",
        "outputId": "688e7a0e-9d1a-4801-9d41-039e2891c8c2"
      },
      "execution_count": null,
      "outputs": [
        {
          "output_type": "stream",
          "name": "stdout",
          "text": [
            "4\n",
            "5\n"
          ]
        }
      ]
    },
    {
      "cell_type": "code",
      "source": [
        "#마지막부터 값 찾기\n",
        "#hint  range의 활용\n",
        "\n",
        "a = [0,1,2,3,4,5,6,7,8,9]\n",
        "size = len(a)\n",
        "find = int(input())\n",
        "#range(5) 0~4까지\n",
        "#range(1,5) 1~4까지\n",
        "#range(1,10, 2)  1~9까지 2씩 증가\n",
        "#10부터 1까지 1씩 감소 =>  range(11, 0, -1)\n",
        "# for k in range(size-1, -1 , -1):\n",
        "#   if a[k] == find:\n",
        "#     print(k)\n",
        "#     break\n",
        "\n",
        "\n",
        "for k in range(size):\n",
        "  #0 번지 => 9만들기\n",
        "  pos = size - 1 - k  #k=0일때 10-1-k=>9-0 = 9번지 찾기\n",
        "  if a[pos] == find:\n",
        "    print(pos)\n",
        "    break"
      ],
      "metadata": {
        "id": "pb5TRm0iKk67"
      },
      "execution_count": null,
      "outputs": []
    },
    {
      "cell_type": "code",
      "source": [
        "#n = [1,3,5,76,8,3,1,2,3,54]\n",
        "n = ['jan', 'feb', 'mar', 'apr', 'may', 'june', 'july']\n",
        "\n",
        "#range(10) =  [0,1,2,3,4,5,6,7,8,9]\n",
        "for k  in n:  #in 다음에는  range만 가능한게 아님. 범위를 가지고 있는것\n",
        "  print(k)"
      ],
      "metadata": {
        "id": "7ySNwE8V6QtD"
      },
      "execution_count": null,
      "outputs": []
    },
    {
      "cell_type": "code",
      "source": [
        "#https://wikidocs.net/21\n",
        "#반복문\n",
        "\n",
        "# 조건이 참인 동안 반복\n",
        "k = 0\n",
        "while k < 5:\n",
        "  print(k)\n",
        "  k = k+1\n",
        "\n",
        "print('byebye')\n",
        "print(k)"
      ],
      "metadata": {
        "id": "tdI7nRWS6R1b"
      },
      "execution_count": null,
      "outputs": []
    },
    {
      "cell_type": "code",
      "source": [
        "#패스워드를 검사하자. 비번이 맞을 때 까지 반복\n",
        "\n",
        "\n",
        "pw = '1234'  #문자 1234\n",
        "my = input('패스워드를 입력하세요')\n",
        "\n",
        "#비번이 틀렸을 때 반복   pw  my 같지 않을때\n",
        "while pw != my:  #!는 부정의 의미\n",
        "  my = input('패스워드를 입력하세요')\n",
        "\n",
        "print('welcome')"
      ],
      "metadata": {
        "id": "Le8kAady6TEj"
      },
      "execution_count": null,
      "outputs": []
    },
    {
      "cell_type": "code",
      "source": [
        "password = '1234'\n",
        "\n",
        "#무조건 반복하다가 조건이 맞으면 탈출(break)\n",
        "\n",
        "while  True  :\n",
        "  my = input('비밀번호를 입력해주세요 >>> ')\n",
        "  if my == pass:\n",
        "    break"
      ],
      "metadata": {
        "id": "4WbQfauV6V-a"
      },
      "execution_count": null,
      "outputs": []
    },
    {
      "cell_type": "code",
      "source": [
        "target = input(\"찾을 글자를 입력하세요 >>> \") #문자열도 리스트임\n",
        "src = input(\"문자열을 입력하세요 >>>\")\n",
        "t_pos = 0\n",
        "for i in src:\n",
        "  # KINTEXT의 K == KTX[0]인 K와 같은지 비교\n",
        "  if i == target[t_pos]:\n",
        "    #만약 글자를 찾으면 target의 다음 글자\n",
        "    t_pos = t_pos + 1\n",
        "  if len(target) == t_pos:\n",
        "    print('Y')\n",
        "    break\n",
        "print(\"끝\")"
      ],
      "metadata": {
        "id": "3ZmIlFwU7_ba",
        "colab": {
          "base_uri": "https://localhost:8080/"
        },
        "outputId": "45d4ba48-52f8-44d2-eeff-bd551dec6d4f"
      },
      "execution_count": null,
      "outputs": [
        {
          "output_type": "stream",
          "name": "stdout",
          "text": [
            "찾을 글자를 입력하세요 >>> ktx\n",
            "문자열을 입력하세요 >>>ktxtext\n",
            "3\n",
            "끝\n"
          ]
        }
      ]
    },
    {
      "cell_type": "code",
      "source": [
        "target, src = input().split()\n",
        "t_pos = 0\n",
        "A = 0\n",
        "for i in src:\n",
        "  if i[0] == target[t_pos]:\n",
        "    t_pos = t_pos + 1\n",
        "    A = A + 1\n",
        "  if len(target) == t_pos:\n",
        "    print('Y')\n",
        "    break\n",
        "    if len(target) != t_pos:\n",
        "      print('N')"
      ],
      "metadata": {
        "colab": {
          "base_uri": "https://localhost:8080/"
        },
        "id": "l5Tlc86wNLNy",
        "outputId": "7708fd8f-3efe-4a8a-8e37-1fad8c3a1f5f"
      },
      "execution_count": null,
      "outputs": [
        {
          "output_type": "stream",
          "name": "stdout",
          "text": [
            "ktx kintext\n",
            "Y\n"
          ]
        }
      ]
    },
    {
      "cell_type": "code",
      "source": [
        "#2023-04-11\n",
        "# -------------------------정리-------------------------\n",
        "#  변수를 사용 \n",
        "#   - a = 1 <= 오른쪽에서 왼쪽으로 복사\n",
        "#   - 저장되는 것에 종류가 있을까? = 자료형(숫자,문자,참/거짓...), 자료의 형태를 지정하지 않음\n",
        "\n",
        "#  만약, 24명의 학생을 보관하려고 함. 변수가 몇 개 필요하지? => 24개 필요 => 너무 많음 => 한 번에 관리 할 수 없을까?\n",
        "#   - 리스트 : 변수들의 집함, 모임(리스트(배열))...., 튜플, 딕셔너리, 집합)\n",
        "#   - 사용법 : 주소가 있음(0번지 부터 시작)\n",
        "#   - a[0] = 1 a리스트의 0번지에 1을 저장\n",
        "#   - 번지에 꼭 숫자가 들어가야 할까? => 아니다. => 변수가 들어갈 수 있음(숫자인 변수)\n",
        "#   - arr = 1, lt[arr] = 1 # lt리스트의 1번지에 1이 들어감 lt[1]\n",
        "#   - 리스트의 크기는 변함. 항목을 추가할 수도 있고, 뺄 수도 있음.\n",
        "\n",
        "# 기능을 사용하기\n",
        "#   - 파이썬에서 만든 기능을 사용\n",
        "#   - 명령어()\n",
        "#   - print(), append(), len(), input(), remove(), int\n",
        "#   - 기능을 만들어서 사용 할 수 있음. def:\n",
        "\n",
        "\n",
        "# print, print()는 다른 말\n",
        "\n",
        "# 문법\n",
        "#   -반복문 : 같은 작업을 여러 번 반복시키는 명령\n",
        "#     - for : 일정 범위 만큼 반복\n",
        "#       - 예) 10번 반복해 X => 0 ~ 9까지 반복해\n",
        "#       for 사용 할 변수 in range(10) #사용 할 변수에 0 ~ 9까지 적용\n",
        "#       - range()의 활용\n",
        "#       - range(10) : 0 ~ 9, range(5, 10) : 5 ~ 9, range(3, 10, 2) : 3 ~ 9, 2씩 증가\n",
        "#       - # 10, 0, 1씩 감소 (= -1씩 증가)\n",
        "for i in range(10, -1,-1): # 10 ~ 0까지 출력\n",
        "  print(i)"
      ],
      "metadata": {
        "colab": {
          "base_uri": "https://localhost:8080/"
        },
        "id": "lKUZm_aEqLFv",
        "outputId": "f1a14b31-2baf-4340-8f73-9da2cc6ab0ff"
      },
      "execution_count": null,
      "outputs": [
        {
          "output_type": "stream",
          "name": "stdout",
          "text": [
            "10\n",
            "9\n",
            "8\n",
            "7\n",
            "6\n",
            "5\n",
            "4\n",
            "3\n",
            "2\n",
            "1\n",
            "0\n"
          ]
        }
      ]
    },
    {
      "cell_type": "code",
      "source": [
        "#리스트와 for를 사용해보자.\n",
        "#리스트를 만드는데 [0, 1, 2, 3, 4]가 보관된 리스트 만들기\n",
        "It = [] # 아무것도 없는 리스트 .append 이용해 추가\n",
        "for i in range(5):\n",
        "  It.append(i)\n",
        "print(It)"
      ],
      "metadata": {
        "colab": {
          "base_uri": "https://localhost:8080/"
        },
        "id": "-vy-CWrv5ibN",
        "outputId": "0f74fa7e-b968-4150-f3db-52c2c3022edd"
      },
      "execution_count": null,
      "outputs": [
        {
          "output_type": "stream",
          "name": "stdout",
          "text": [
            "[0, 1, 2, 3, 4]\n"
          ]
        }
      ]
    },
    {
      "cell_type": "code",
      "source": [
        "It = []\n",
        "a = 0\n",
        "size = int(input())\n",
        "for i in range(size + 1):\n",
        "  It.append(a)\n",
        "  a += 1\n",
        "print(It)"
      ],
      "metadata": {
        "colab": {
          "base_uri": "https://localhost:8080/"
        },
        "id": "6-2_PFZJ5d3N",
        "outputId": "38ced3c0-d71f-4171-9b55-59be64c4fa48"
      },
      "execution_count": null,
      "outputs": [
        {
          "output_type": "stream",
          "name": "stdout",
          "text": [
            "5\n",
            "[0, 1, 2, 3, 4, 5]\n"
          ]
        }
      ]
    },
    {
      "cell_type": "code",
      "source": [
        "import random\n",
        "\n",
        "It = []\n",
        "a = random.randrange(0, 101)\n",
        "for i in range(0, a):\n",
        "  It.append(i)\n",
        "print(It)"
      ],
      "metadata": {
        "colab": {
          "base_uri": "https://localhost:8080/"
        },
        "id": "TKc4NzAb6uNF",
        "outputId": "f8b312dd-7d2c-4348-f961-e5bfa2ef587a"
      },
      "execution_count": null,
      "outputs": [
        {
          "output_type": "stream",
          "name": "stdout",
          "text": [
            "[0, 1, 2, 3, 4, 5, 6, 7, 8]\n"
          ]
        }
      ]
    },
    {
      "cell_type": "code",
      "source": [
        "while 1 > 0:  #맞는 경우 계속 반복\n",
        "  ans = input(\"Q를 입력하시면 종료\")\n",
        "  if ans != 0:\n",
        "    break\n"
      ],
      "metadata": {
        "colab": {
          "base_uri": "https://localhost:8080/"
        },
        "id": "IZD_kk1WISZI",
        "outputId": "8bdaf087-1552-425b-d899-d0f41285f2c0"
      },
      "execution_count": null,
      "outputs": [
        {
          "name": "stdout",
          "output_type": "stream",
          "text": [
            "Q를 입력하시면 종료Q\n"
          ]
        }
      ]
    },
    {
      "cell_type": "code",
      "source": [
        "#숫자 하나를 입력하면 그 수로부터 1까지 출력 단 while문을 사용\n",
        "n = int(input())\n",
        "while n > 0:\n",
        "  print(n)\n",
        "  n -= 1"
      ],
      "metadata": {
        "colab": {
          "base_uri": "https://localhost:8080/"
        },
        "id": "Ur20Mp7WLB78",
        "outputId": "718042f5-9b85-4304-9020-48c05a9474a7"
      },
      "execution_count": null,
      "outputs": [
        {
          "output_type": "stream",
          "name": "stdout",
          "text": [
            "10\n",
            "10\n",
            "9\n",
            "8\n",
            "7\n",
            "6\n",
            "5\n",
            "4\n",
            "3\n",
            "2\n",
            "1\n"
          ]
        }
      ]
    },
    {
      "cell_type": "code",
      "source": [
        "#숫자를 하나 입력받아서\n",
        "#입력 수 부터 100까지 출력\n",
        "n = int(input())\n",
        "while n != 101:\n",
        "  print(n)\n",
        "  n += 1"
      ],
      "metadata": {
        "colab": {
          "base_uri": "https://localhost:8080/"
        },
        "id": "bfTZ6cvWOju4",
        "outputId": "7790f2f6-0e93-4652-8ab8-e439abf5d06e"
      },
      "execution_count": null,
      "outputs": [
        {
          "output_type": "stream",
          "name": "stdout",
          "text": [
            "49\n",
            "49\n",
            "50\n",
            "51\n",
            "52\n",
            "53\n",
            "54\n",
            "55\n",
            "56\n",
            "57\n",
            "58\n",
            "59\n",
            "60\n",
            "61\n",
            "62\n",
            "63\n",
            "64\n",
            "65\n",
            "66\n",
            "67\n",
            "68\n",
            "69\n",
            "70\n",
            "71\n",
            "72\n",
            "73\n",
            "74\n",
            "75\n",
            "76\n",
            "77\n",
            "78\n",
            "79\n",
            "80\n",
            "81\n",
            "82\n",
            "83\n",
            "84\n",
            "85\n",
            "86\n",
            "87\n",
            "88\n",
            "89\n",
            "90\n",
            "91\n",
            "92\n",
            "93\n",
            "94\n",
            "95\n",
            "96\n",
            "97\n",
            "98\n",
            "99\n",
            "100\n"
          ]
        }
      ]
    },
    {
      "cell_type": "code",
      "source": [],
      "metadata": {
        "id": "-e2YOVcnufeV"
      },
      "execution_count": null,
      "outputs": []
    }
  ]
}